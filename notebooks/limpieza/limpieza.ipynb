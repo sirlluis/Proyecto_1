{
 "cells": [
  {
   "cell_type": "markdown",
   "id": "f646a262",
   "metadata": {},
   "source": [
    "# Limpieza de datos\n",
    "Este cuaderno se ayudará a limpiar y depurar los datos de la funete. La ruta del documento ```.csv``` es: ```data/raw/mexico_covid19.csv```"
   ]
  },
  {
   "cell_type": "code",
   "execution_count": 1,
   "id": "6c2658a4",
   "metadata": {},
   "outputs": [],
   "source": [
    "import pandas as pd"
   ]
  },
  {
   "cell_type": "code",
   "execution_count": 28,
   "id": "3771b14e",
   "metadata": {},
   "outputs": [],
   "source": [
    "#importamos los datos\n",
    "data=pd.read_csv(\"../../data/raw/mexico_covid19.csv\")"
   ]
  },
  {
   "cell_type": "code",
   "execution_count": 30,
   "id": "483fe9b9",
   "metadata": {},
   "outputs": [
    {
     "name": "stdout",
     "output_type": "stream",
     "text": [
      "<class 'pandas.core.frame.DataFrame'>\n",
      "RangeIndex: 263007 entries, 0 to 263006\n",
      "Data columns (total 41 columns):\n",
      " #   Column               Non-Null Count   Dtype  \n",
      "---  ------               --------------   -----  \n",
      " 0   id                   263007 non-null  int64  \n",
      " 1   FECHA_ARCHIVO        263007 non-null  object \n",
      " 2   ID_REGISTRO          263007 non-null  object \n",
      " 3   ENTIDAD_UM           263007 non-null  int64  \n",
      " 4   ENTIDAD_RES          263007 non-null  int64  \n",
      " 5   RESULTADO            263007 non-null  int64  \n",
      " 6   DELAY                263007 non-null  int64  \n",
      " 7   ENTIDAD_REGISTRO     263007 non-null  int64  \n",
      " 8   ENTIDAD              263007 non-null  object \n",
      " 9   ABR_ENT              263007 non-null  object \n",
      " 10  FECHA_ACTUALIZACION  263007 non-null  object \n",
      " 11  ORIGEN               263007 non-null  int64  \n",
      " 12  SECTOR               263007 non-null  int64  \n",
      " 13  SEXO                 263007 non-null  int64  \n",
      " 14  ENTIDAD_NAC          263007 non-null  int64  \n",
      " 15  MUNICIPIO_RES        263001 non-null  float64\n",
      " 16  TIPO_PACIENTE        263007 non-null  int64  \n",
      " 17  FECHA_INGRESO        263007 non-null  object \n",
      " 18  FECHA_SINTOMAS       263007 non-null  object \n",
      " 19  FECHA_DEF            263007 non-null  object \n",
      " 20  INTUBADO             263007 non-null  int64  \n",
      " 21  NEUMONIA             263007 non-null  int64  \n",
      " 22  EDAD                 263007 non-null  int64  \n",
      " 23  NACIONALIDAD         263007 non-null  int64  \n",
      " 24  EMBARAZO             263007 non-null  int64  \n",
      " 25  HABLA_LENGUA_INDIG   263007 non-null  int64  \n",
      " 26  DIABETES             263007 non-null  int64  \n",
      " 27  EPOC                 263007 non-null  int64  \n",
      " 28  ASMA                 263007 non-null  int64  \n",
      " 29  INMUSUPR             263007 non-null  int64  \n",
      " 30  HIPERTENSION         263007 non-null  int64  \n",
      " 31  OTRA_COM             263007 non-null  int64  \n",
      " 32  CARDIOVASCULAR       263007 non-null  int64  \n",
      " 33  OBESIDAD             263007 non-null  int64  \n",
      " 34  RENAL_CRONICA        263007 non-null  int64  \n",
      " 35  TABAQUISMO           263007 non-null  int64  \n",
      " 36  OTRO_CASO            263007 non-null  int64  \n",
      " 37  MIGRANTE             263007 non-null  int64  \n",
      " 38  PAIS_NACIONALIDAD    263007 non-null  object \n",
      " 39  PAIS_ORIGEN          263007 non-null  object \n",
      " 40  UCI                  263007 non-null  int64  \n",
      "dtypes: float64(1), int64(30), object(10)\n",
      "memory usage: 82.3+ MB\n"
     ]
    }
   ],
   "source": [
    "data.info()"
   ]
  }
 ],
 "metadata": {
  "kernelspec": {
   "display_name": "base",
   "language": "python",
   "name": "python3"
  },
  "language_info": {
   "codemirror_mode": {
    "name": "ipython",
    "version": 3
   },
   "file_extension": ".py",
   "mimetype": "text/x-python",
   "name": "python",
   "nbconvert_exporter": "python",
   "pygments_lexer": "ipython3",
   "version": "3.13.2"
  }
 },
 "nbformat": 4,
 "nbformat_minor": 5
}
